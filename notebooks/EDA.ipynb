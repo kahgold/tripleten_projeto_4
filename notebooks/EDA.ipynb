{
 "cells": [
  {
   "cell_type": "markdown",
   "metadata": {},
   "source": [
    "# O que vende um carro?\n",
    "\n",
    "Você é analista na Lista de Eixo de Manivela. Centenas de propagandas gratuitas de veículos são publicadas no seu site todos os dias. Você precisa estudar os dados coletados nos últimos anos e determinar quais fatores influenciaram o preço de um veículo.\n",
    "\n",
    "# Instruções para completar o projeto \n",
    "*Passo1 - Baixar o conjunto de dados* \n",
    "\n",
    "*Passo 2. - Pré-processamento de dados* \n",
    "- Identifique e estude valores ausentes:     \n",
    "    - Em alguns casos há uma maneira óbvia de substituir valores ausentes. Por exemplo, se um campo booleano contém apenas valores True, é razoável presumir que valores ausentes são False. Não há correções tão óbvias para outros tipos de dados, e há casos quando o fato de que um valor está ausente é significativo. Quando for apropriado, preencha os valores. \n",
    "    - Descreva os fatores que podem ter resultado em valores ausentes.\n",
    "\n",
    "*Passo 3. Calcule e adicione à tabela o seguinte:*\n",
    "- ​Dia da semana, mês, e ano que a propaganda foi colocada A idade do veículo (em anos) quando a propaganda foi colocada. A média de quilometragem por ano Na coluna condition, substitua valores de string por uma escala numérica:​\n",
    "    - novo = 5\n",
    "    - como novo = 4\n",
    "    - excellente = 3\n",
    "    - bom = 2\n",
    "    - razoável = 1\n",
    "    - sucata = 0\n",
    "\n",
    "*Passo 4. - Realize uma análise exploratória de dados, seguindo as instruções abaixo:* \n",
    "- Estude os seguintes parâmetros: preço, idade do veículo quando a propaganda foi colocada, quilometragem, número de cilindros, e condição.\n",
    "- Construa histogramas para cada um desses parâmetros.\n",
    "- Estude como valores atípicos afetam a forma e a legibilidade dos histogramas.\n",
    "- Determine os limites superiores de valores atípicos, remova os valores atípicos, armazene-os em um DataFrame separado e continue seu trabalho com os dados filtrados.\n",
    "- Use os dados filtrados para construir novos histogramas. Compare-os com os histogramas anteriores (aqueles que incluem valores atípicos).\n",
    "- Tire conclusões para cada histograma.\n",
    "- Analise o número de propagandas e o preço médio para cada tipo de veículo.\n",
    "- Construa um gráfico mostrando a dependência do número de propagandas em relação ao tipo de veículo.\n",
    "- Selecione os dois tipos com o maior número de propagandas. Pegue cada um dos tipos populares que você detectou no estágio anterior e estude se o preço depende da idade, quilometragem, condição, tipo de transmissão e cor. Ao analisar variáveis categóricas, note que as categorias precisam ter pelo menos 50 propagandas; de outro modo, seus parâmetros não serão válidos para análise.\n",
    "\n",
    "*Passo 5. Escreva uma conclusão geral. \n",
    "- Formato: Complete a tarefa em um notebook Jupyter. Coloque seu código nas células de código e suas explicações de texto em células Markdown, então aplique a formatação e os cabeçalhos.*\n",
    "\n",
    "*Descrição dos dados:*\n",
    "- O conjunto de dados contém os seguintes campos:\n",
    "    - price\n",
    "    - model_year\n",
    "    - model\n",
    "    - condition\n",
    "    - cylinders\n",
    "    - fuel — gasolina, diesel etc.\n",
    "    - odometer — a quilometragem do veículo quando a propaganda foi\n",
    "    - publicada\n",
    "    - transmission\n",
    "    - paint_color\n",
    "    - is_4wd — Se o veículo é 4 por 4 (tipo Booleano)\n",
    "    - date_posted — a data que a propaganda foi publicada\n",
    "    - days_listed — dias desde a publicação até a retirada"
   ]
  },
  {
   "cell_type": "markdown",
   "metadata": {},
   "source": [
    "# Iniciação"
   ]
  },
  {
   "cell_type": "code",
   "execution_count": null,
   "metadata": {},
   "outputs": [],
   "source": [
    "# Carregando todas as bibliotecas necessárias\n",
    "import pandas as pd\n",
    "import plotly.express as px\n",
    "import plotly.subplots as ps"
   ]
  },
  {
   "cell_type": "markdown",
   "metadata": {},
   "source": [
    "### Carreguamento dos dados"
   ]
  },
  {
   "cell_type": "code",
   "execution_count": null,
   "metadata": {},
   "outputs": [],
   "source": [
    "# Carregue o arquivo com os dados em um DataFrame\n",
    "df_cars = pd.read_csv('vehicles_us.csv')"
   ]
  },
  {
   "cell_type": "markdown",
   "metadata": {},
   "source": [
    "### Exploração dos dados iniciais"
   ]
  },
  {
   "cell_type": "code",
   "execution_count": null,
   "metadata": {},
   "outputs": [],
   "source": [
    "# verificando nomes das colunas\n",
    "df_cars.columns"
   ]
  },
  {
   "cell_type": "markdown",
   "metadata": {},
   "source": [
    "`Sem problemas nos nomes das colunas.`"
   ]
  },
  {
   "cell_type": "code",
   "execution_count": null,
   "metadata": {},
   "outputs": [],
   "source": [
    "# imprima as informações gerais/resumidas sobre o DataFrame\n",
    "df_cars.info()"
   ]
  },
  {
   "cell_type": "markdown",
   "metadata": {},
   "source": [
    "`Temos 13 colunas. Percebe-se dados ausentes. O Dtype nos mostra que teremos que transformar os tipos de dados em algumas colunas.`"
   ]
  },
  {
   "cell_type": "code",
   "execution_count": null,
   "metadata": {},
   "outputs": [],
   "source": [
    "# chamando .describe()\n",
    "df_cars.describe()"
   ]
  },
  {
   "cell_type": "code",
   "execution_count": null,
   "metadata": {},
   "outputs": [],
   "source": [
    "# chamando .shape\n",
    "df_cars.shape"
   ]
  },
  {
   "cell_type": "code",
   "execution_count": null,
   "metadata": {},
   "outputs": [],
   "source": [
    "# imprima uma amostragem dos dados\n",
    "df_cars.head(15)"
   ]
  },
  {
   "cell_type": "code",
   "execution_count": null,
   "metadata": {},
   "outputs": [],
   "source": [
    "# chamando .tail()\n",
    "df_cars.tail(15)"
   ]
  },
  {
   "cell_type": "code",
   "execution_count": null,
   "metadata": {},
   "outputs": [],
   "source": [
    "# verificando valores ausentes\n",
    "df_cars.isna().sum()"
   ]
  },
  {
   "cell_type": "markdown",
   "metadata": {},
   "source": [
    "`Valores ausentes nas colunas model_year, cylinders, odometer, paint_color e is_4wd.`"
   ]
  },
  {
   "cell_type": "code",
   "execution_count": null,
   "metadata": {},
   "outputs": [],
   "source": [
    "# verificando duplicados\n",
    "df_cars.duplicated().sum()"
   ]
  },
  {
   "cell_type": "markdown",
   "metadata": {},
   "source": [
    "`Sem duplicados no df_cars. Coluna date_posted está em formato object e is_4wd apresenta valores float64. Provavelmente teremos que tratar esses dados mais abaixo.`"
   ]
  },
  {
   "cell_type": "code",
   "execution_count": null,
   "metadata": {},
   "outputs": [],
   "source": [
    "# contando a porcentagem de valores ausentes nas colunas\n",
    "\n",
    "# tamanho de df_cars\n",
    "df_cars_size = len(df_cars)\n",
    "\n",
    "# coluna a coluna\n",
    "\n",
    "# model_year\n",
    "nan_model_year = df_cars['model_year'].isna().sum()\n",
    "print(f'Valores ausentes em model_year: {nan_model_year}. Percentual: {round((nan_model_year / df_cars_size) * 100)}% do DataFrame.')\n",
    "\n",
    "# cylinders\n",
    "nan_cylinders = df_cars['cylinders'].isna().sum()\n",
    "print(f'Valores ausentes em cylinders: {nan_cylinders}. Percentual: {round((nan_cylinders / df_cars_size) * 100)}% do DataFrame.')\n",
    "\n",
    "# odometer\n",
    "nan_odometer = df_cars['odometer'].isna().sum()\n",
    "print(f'Valores ausentes em odometer: {nan_odometer}. Percentual: {round((nan_odometer / df_cars_size) * 100)}% do DataFrame.')\n",
    "\n",
    "# paint color\n",
    "nan_paint_color = df_cars['paint_color'].isna().sum()\n",
    "print(f'Valores ausentes em paint_color: {nan_paint_color}. Percentual: {round((nan_paint_color / df_cars_size) * 100)}% do DataFrame.')"
   ]
  },
  {
   "cell_type": "markdown",
   "metadata": {},
   "source": [
    "`Como o percentual de valores ausentes nas colunas são consideráveis, avaliaremos como vamos tratá-los em cada caso.`\n",
    "\n",
    "*Vamos verificar se existe uma correlação entre model_year e odometer.*"
   ]
  },
  {
   "cell_type": "code",
   "execution_count": null,
   "metadata": {},
   "outputs": [],
   "source": [
    "corr_model_year_odometer = df_cars['odometer'].corr(df_cars['model_year'])\n",
    "corr_model_year_odometer"
   ]
  },
  {
   "cell_type": "code",
   "execution_count": null,
   "metadata": {},
   "outputs": [],
   "source": [
    "# gráfico de dispersão para odometer e price\n",
    "fig = px.scatter(df_cars, x='model_year', y='odometer', \n",
    "                 color_discrete_sequence=px.colors.qualitative.Set3) \n",
    "\n",
    "fig.update_traces(marker=dict(size=8, line=dict(width=2, color='grey')), \n",
    "                  selector=dict(mode='markers'))\n",
    "\n",
    "fig.update_layout(scattermode=\"group\", scattergap=0.75, \n",
    "                  title='Gráfico de Dispersão entre model_year e odometer', \n",
    "                  autosize=False, width=500, height=500)\n",
    "\n",
    "fig.show() "
   ]
  },
  {
   "cell_type": "markdown",
   "metadata": {},
   "source": [
    "`Existe uma correlação negativa entre odometer e model_year.`\n",
    "\n",
    "*Criando uma matriz de correlação entre todas as colunas numéricas.*"
   ]
  },
  {
   "cell_type": "code",
   "execution_count": null,
   "metadata": {},
   "outputs": [],
   "source": [
    "df_cars.head(1)"
   ]
  },
  {
   "cell_type": "code",
   "execution_count": null,
   "metadata": {},
   "outputs": [],
   "source": [
    "# variável com as colunas numéricas\n",
    "numeric_columns = df_cars.iloc[:, [0, 1, 4, 6, 10]]"
   ]
  },
  {
   "cell_type": "code",
   "execution_count": null,
   "metadata": {},
   "outputs": [],
   "source": [
    "# aplicando o método corr\n",
    "corr_matrix = numeric_columns.corr()\n",
    "corr_matrix"
   ]
  },
  {
   "cell_type": "markdown",
   "metadata": {},
   "source": [
    "*Vamos ver graficamente.*"
   ]
  },
  {
   "cell_type": "code",
   "execution_count": null,
   "metadata": {},
   "outputs": [],
   "source": [
    "# criar um gráfico de dispersão\n",
    "fig = px.imshow(corr_matrix, text_auto=True, \n",
    "                color_continuous_scale=[(0, \"blue\"), (0.5, \"orange\"), (1, \"purple\")])\n",
    "\n",
    "fig.update_layout(title='Matriz de Correlação', \n",
    "                  autosize=False, width=500, height=500)\n",
    "\n",
    "fig.show()"
   ]
  },
  {
   "cell_type": "markdown",
   "metadata": {},
   "source": [
    "`Obtivemos bons insights verificando as correlações.`\n",
    "\n",
    "*Certificando sobre a coluna is_4wd.*"
   ]
  },
  {
   "cell_type": "code",
   "execution_count": null,
   "metadata": {},
   "outputs": [],
   "source": [
    "# valores únicos na coluna is_4wd\n",
    "df_cars['is_4wd'].unique()"
   ]
  },
  {
   "cell_type": "markdown",
   "metadata": {},
   "source": [
    "`A coluna is_4wd está como coluna booleana. Discorreremos que 1 representa sim, e nan (0), como não.`"
   ]
  },
  {
   "cell_type": "code",
   "execution_count": null,
   "metadata": {},
   "outputs": [],
   "source": [
    "# corrigindo os valores ausentes na coluna is_4wd e conferindo o resultado\n",
    "df_cars['is_4wd'] = df_cars['is_4wd'].fillna(0)\n",
    "print(f\"Dados ausentes em is_4wd: {df_cars['is_4wd'].isna().sum()}\")\n",
    "print(f\"valores únicos em is_4wd: {df_cars['is_4wd'].unique()}\")"
   ]
  },
  {
   "cell_type": "markdown",
   "metadata": {},
   "source": [
    "`Coluna is_4wd ajustada.`"
   ]
  },
  {
   "cell_type": "markdown",
   "metadata": {},
   "source": [
    "*Verificando coluna paint_color.*"
   ]
  },
  {
   "cell_type": "code",
   "execution_count": null,
   "metadata": {},
   "outputs": [],
   "source": [
    "# analisando valores únicos\n",
    "df_cars['paint_color'].unique()"
   ]
  },
  {
   "cell_type": "code",
   "execution_count": null,
   "metadata": {},
   "outputs": [],
   "source": [
    "# buscando mais informações com o value_counts\n",
    "df_cars_paint_color = df_cars.paint_color.value_counts()\n",
    "df_cars_paint_color"
   ]
  },
  {
   "cell_type": "code",
   "execution_count": null,
   "metadata": {},
   "outputs": [],
   "source": [
    "# plotando um gráfico de barras para melhor visualização\n",
    "fig = px.bar(df_cars_paint_color, barmode=\"group\", text_auto=True)\n",
    "\n",
    "fig.update_layout(title='Cores dos carros', \n",
    "                  autosize=False, width=500, height=500)\n",
    "\n",
    "fig.show()"
   ]
  },
  {
   "cell_type": "markdown",
   "metadata": {},
   "source": [
    "`Dado que a visualização dos dados da coluna paint_color não trouxe insights significativos, considerando que se trata de uma variável categórica, optamos por preencher os valores ausentes com \"unknown\".`"
   ]
  },
  {
   "cell_type": "code",
   "execution_count": null,
   "metadata": {},
   "outputs": [],
   "source": [
    "# preenchendo com unknown a coluna paint_model com fillna\n",
    "df_cars['paint_color'] = df_cars['paint_color'].fillna('unknown')"
   ]
  },
  {
   "cell_type": "code",
   "execution_count": null,
   "metadata": {},
   "outputs": [],
   "source": [
    "# verificando...\n",
    "df_cars.paint_color.isna().sum()"
   ]
  },
  {
   "cell_type": "markdown",
   "metadata": {},
   "source": [
    "`Coluna paint_color sem valores ausentes agora.`"
   ]
  },
  {
   "cell_type": "markdown",
   "metadata": {},
   "source": [
    "*Vamos agora olhar a coluna cylinders.*"
   ]
  },
  {
   "cell_type": "code",
   "execution_count": null,
   "metadata": {},
   "outputs": [],
   "source": [
    "# dtype\n",
    "df_cars.cylinders.dtype"
   ]
  },
  {
   "cell_type": "markdown",
   "metadata": {},
   "source": [
    "*Vamos transformar para números a coluna cylinders.*"
   ]
  },
  {
   "cell_type": "code",
   "execution_count": null,
   "metadata": {},
   "outputs": [],
   "source": [
    "# transformando...\n",
    "df_cars['cylinders'] = pd.to_numeric(df_cars['cylinders'], errors='coerce')"
   ]
  },
  {
   "cell_type": "code",
   "execution_count": null,
   "metadata": {},
   "outputs": [],
   "source": [
    "# conferindo...\n",
    "df_cars.cylinders.dtype"
   ]
  },
  {
   "cell_type": "markdown",
   "metadata": {},
   "source": [
    "*Olhando a correlação mais forte.*"
   ]
  },
  {
   "cell_type": "code",
   "execution_count": null,
   "metadata": {},
   "outputs": [],
   "source": [
    "# correlação\n",
    "df_cars.corr(numeric_only=True)"
   ]
  },
  {
   "cell_type": "code",
   "execution_count": null,
   "metadata": {},
   "outputs": [],
   "source": [
    "# valores únicos em is_4wd\n",
    "df_cars.is_4wd.unique()"
   ]
  },
  {
   "cell_type": "code",
   "execution_count": null,
   "metadata": {},
   "outputs": [],
   "source": [
    "# olhando média e mediana...\n",
    "grouped_cylinders_by_is_4wd = df_cars.groupby('is_4wd')['cylinders'].agg(['mean', 'median'])\n",
    "grouped_cylinders_by_is_4wd"
   ]
  },
  {
   "cell_type": "code",
   "execution_count": null,
   "metadata": {},
   "outputs": [],
   "source": [
    "# salvando em uma variável a mediana\n",
    "median_cylinders_by_is_4wd = df_cars.groupby('is_4wd')['cylinders'].transform('median')\n",
    "median_cylinders_by_is_4wd"
   ]
  },
  {
   "cell_type": "code",
   "execution_count": null,
   "metadata": {},
   "outputs": [],
   "source": [
    "# preenchendo com mediana a coluna cylinders\n",
    "df_cars['cylinders'].fillna(median_cylinders_by_is_4wd, inplace=True)"
   ]
  },
  {
   "cell_type": "code",
   "execution_count": null,
   "metadata": {},
   "outputs": [],
   "source": [
    "# atestando\n",
    "df_cars['cylinders'].isna().sum()"
   ]
  },
  {
   "cell_type": "markdown",
   "metadata": {},
   "source": [
    "`Sem valores ausentes em cylinders agora. Prosseguimos.`"
   ]
  },
  {
   "cell_type": "markdown",
   "metadata": {},
   "source": [
    "## Cuidamento dos valores ausentes (se houver algum)\n",
    "\n",
    "*Vamos agora melhorar os dados em model_year com base em price, pois como verificado no mapa de calor, existe uma \"boa\" correlação.*"
   ]
  },
  {
   "cell_type": "code",
   "execution_count": null,
   "metadata": {},
   "outputs": [],
   "source": [
    "# contando valores únicos...\n",
    "len(df_cars.price.unique())"
   ]
  },
  {
   "cell_type": "markdown",
   "metadata": {},
   "source": [
    "`São muitos valores, vamos agrupar.`"
   ]
  },
  {
   "cell_type": "code",
   "execution_count": null,
   "metadata": {},
   "outputs": [],
   "source": [
    "# qcut para intervalos\n",
    "df_cars['price_bins'] = pd.qcut(df_cars.price, q = 6)"
   ]
  },
  {
   "cell_type": "code",
   "execution_count": null,
   "metadata": {},
   "outputs": [],
   "source": [
    "# olhanda a média e mediana\n",
    "grouped = df_cars.groupby('price_bins')['model_year'].agg(['mean', 'median']).reset_index()\n",
    "grouped"
   ]
  },
  {
   "cell_type": "code",
   "execution_count": null,
   "metadata": {},
   "outputs": [],
   "source": [
    "# qcut usando os quartis\n",
    "df_cars['price_bins'] = pd.qcut(df_cars['price'], q=(0, 0.25, 0.5, 0.75, 1))"
   ]
  },
  {
   "cell_type": "code",
   "execution_count": null,
   "metadata": {},
   "outputs": [],
   "source": [
    "# média e mediana pelos quartis...\n",
    "grouped = df_cars.groupby('price_bins')['model_year'].agg(['mean', 'median']).reset_index()\n",
    "grouped"
   ]
  },
  {
   "cell_type": "markdown",
   "metadata": {},
   "source": [
    "`Vamos preencher os valores ausnetes em model_year pela mediana do grouped.`"
   ]
  },
  {
   "cell_type": "code",
   "execution_count": null,
   "metadata": {},
   "outputs": [],
   "source": [
    "# agrupando pela mediana\n",
    "grouped_median = df_cars.groupby('price_bins')['model_year'].transform('median')"
   ]
  },
  {
   "cell_type": "code",
   "execution_count": null,
   "metadata": {},
   "outputs": [],
   "source": [
    "# preenchendo...\n",
    "df_cars['model_year'].fillna(grouped_median, inplace=True)"
   ]
  },
  {
   "cell_type": "code",
   "execution_count": null,
   "metadata": {},
   "outputs": [],
   "source": [
    "# valores ausentes?\n",
    "df_cars['model_year'].isna().sum()"
   ]
  },
  {
   "cell_type": "markdown",
   "metadata": {},
   "source": [
    "`Coluna model_year solucionada.`"
   ]
  },
  {
   "cell_type": "markdown",
   "metadata": {},
   "source": [
    "*Agora vamos resolver a coluna odometer*"
   ]
  },
  {
   "cell_type": "code",
   "execution_count": null,
   "metadata": {},
   "outputs": [],
   "source": [
    "# qcut usando os quartis novamente\n",
    "df_cars['price_bins'] = pd.qcut(df_cars['price'], q=(0, 0.25, 0.5, 0.75, 1))"
   ]
  },
  {
   "cell_type": "code",
   "execution_count": null,
   "metadata": {},
   "outputs": [],
   "source": [
    "# média e mediana pelos quartis...\n",
    "grouped = df_cars.groupby('price_bins')['odometer'].agg(['mean', 'median']).reset_index()\n",
    "grouped"
   ]
  },
  {
   "cell_type": "code",
   "execution_count": null,
   "metadata": {},
   "outputs": [],
   "source": [
    "# mediana sempre a melhor opção, vamos agrupar\n",
    "grouped_median = df_cars.groupby('price_bins')['odometer'].transform('median')\n",
    "grouped_median"
   ]
  },
  {
   "cell_type": "code",
   "execution_count": null,
   "metadata": {},
   "outputs": [],
   "source": [
    "# retirando os valores ausnetes\n",
    "df_cars['odometer'].fillna(grouped_median, inplace=True)"
   ]
  },
  {
   "cell_type": "code",
   "execution_count": null,
   "metadata": {},
   "outputs": [],
   "source": [
    "# conferindo\n",
    "df_cars['odometer'].isna().sum()"
   ]
  },
  {
   "cell_type": "markdown",
   "metadata": {},
   "source": [
    "`Tudo okay com a coluna odometer.`"
   ]
  },
  {
   "cell_type": "markdown",
   "metadata": {},
   "source": [
    "## Correção dos tipos de dados\n",
    "\n",
    "*Vamos alterar o formato de coluna date_posted.*"
   ]
  },
  {
   "cell_type": "code",
   "execution_count": null,
   "metadata": {},
   "outputs": [],
   "source": [
    "df_cars['date_posted'].info()"
   ]
  },
  {
   "cell_type": "code",
   "execution_count": null,
   "metadata": {},
   "outputs": [],
   "source": [
    "# alterando com to_datetime do pandas\n",
    "df_cars['date_posted'] = pd.to_datetime(df_cars['date_posted'])"
   ]
  },
  {
   "cell_type": "code",
   "execution_count": null,
   "metadata": {},
   "outputs": [],
   "source": [
    "# verificando...\n",
    "df_cars['date_posted'].info()"
   ]
  },
  {
   "cell_type": "markdown",
   "metadata": {},
   "source": [
    "`Coluna date_posted em formato adequado agora.`"
   ]
  },
  {
   "cell_type": "markdown",
   "metadata": {},
   "source": [
    "## Enriquecimento dos dados\n",
    "\n",
    "*Adicionando nova coluna date_listed na qual iremos realizar a soma.*"
   ]
  },
  {
   "cell_type": "code",
   "execution_count": null,
   "metadata": {},
   "outputs": [],
   "source": [
    "# Adicione valores data/hora para quando a propaganda estiver colocada\n",
    "df_cars['days_listed'] = pd.to_timedelta(df_cars['days_listed'], unit='D')"
   ]
  },
  {
   "cell_type": "code",
   "execution_count": null,
   "metadata": {},
   "outputs": [],
   "source": [
    "# somando...\n",
    "df_cars['date_listed'] = df_cars['date_posted'] + df_cars['days_listed']"
   ]
  },
  {
   "cell_type": "code",
   "execution_count": null,
   "metadata": {},
   "outputs": [],
   "source": [
    "# conferindo\n",
    "df_cars.head()"
   ]
  },
  {
   "cell_type": "markdown",
   "metadata": {},
   "source": [
    "`Coluna date_listed criada com sucesso.`"
   ]
  },
  {
   "cell_type": "markdown",
   "metadata": {},
   "source": [
    "*Vamos calcular a idade do veículo conforme a data de propaganda.*"
   ]
  },
  {
   "cell_type": "code",
   "execution_count": null,
   "metadata": {},
   "outputs": [],
   "source": [
    "# verificando os formatos\n",
    "df_cars.date_posted.info()"
   ]
  },
  {
   "cell_type": "code",
   "execution_count": null,
   "metadata": {},
   "outputs": [],
   "source": [
    "# verificando formato de model_year\n",
    "df_cars.model_year.info()"
   ]
  },
  {
   "cell_type": "code",
   "execution_count": null,
   "metadata": {},
   "outputs": [],
   "source": [
    "# subtraindo e criando uma nova coluna com a idade do veículo...\n",
    "df_cars['vehicle_age'] = df_cars['date_posted'].dt.year - df_cars['model_year'].astype(float)"
   ]
  },
  {
   "cell_type": "code",
   "execution_count": null,
   "metadata": {},
   "outputs": [],
   "source": [
    "# conferindo\n",
    "df_cars.vehicle_age.head()"
   ]
  },
  {
   "cell_type": "markdown",
   "metadata": {},
   "source": [
    "*Vamos agora calcular a quilometragem por ano.*"
   ]
  },
  {
   "cell_type": "code",
   "execution_count": null,
   "metadata": {},
   "outputs": [],
   "source": [
    "# dividindo a coluna odometers por vehicle_age\n",
    "df_cars['avg_km_per_year'] = df_cars['odometer'] / df_cars['vehicle_age']"
   ]
  },
  {
   "cell_type": "code",
   "execution_count": null,
   "metadata": {},
   "outputs": [],
   "source": [
    "# constatando...\n",
    "df_cars.avg_km_per_year.head()"
   ]
  },
  {
   "cell_type": "markdown",
   "metadata": {},
   "source": [
    "*Transformando coluna condition.*"
   ]
  },
  {
   "cell_type": "code",
   "execution_count": null,
   "metadata": {},
   "outputs": [],
   "source": [
    "# verificando valores únicos\n",
    "df_cars.condition.unique()"
   ]
  },
  {
   "cell_type": "code",
   "execution_count": null,
   "metadata": {},
   "outputs": [],
   "source": [
    "# substituindo...\n",
    "# 'good' = 2, 'like new' = 4, 'fair' = 1, 'excellent' = 3, 'salvage' = 0, 'new' = 5\n",
    "df_cars['condition'] = df_cars['condition'].replace({'new': 5,\n",
    "                                                     'like new': 4,\n",
    "                                                     'excellent': 3,\n",
    "                                                     'good': 2,\n",
    "                                                     'fair': 1,\n",
    "                                                     'salvage': 0})"
   ]
  },
  {
   "cell_type": "code",
   "execution_count": null,
   "metadata": {},
   "outputs": [],
   "source": [
    "# verificando\n",
    "df_cars.condition.unique()"
   ]
  },
  {
   "cell_type": "markdown",
   "metadata": {},
   "source": [
    "`Valores na coluna condition alterados para numéricos.`"
   ]
  },
  {
   "cell_type": "markdown",
   "metadata": {},
   "source": [
    "## Verificação os dos dados limpos"
   ]
  },
  {
   "cell_type": "code",
   "execution_count": null,
   "metadata": {},
   "outputs": [],
   "source": [
    "# imprima as informações gerais/resumidas sobre o DataFrame\n",
    "df_cars.info()"
   ]
  },
  {
   "cell_type": "code",
   "execution_count": null,
   "metadata": {},
   "outputs": [],
   "source": [
    "# imprima uma amostragem dos dados\n",
    "df_cars.head()"
   ]
  },
  {
   "cell_type": "markdown",
   "metadata": {},
   "source": [
    "*Vamos criar 5 histogramas para demosntrar os dados.*"
   ]
  },
  {
   "cell_type": "code",
   "execution_count": null,
   "metadata": {},
   "outputs": [],
   "source": [
    "fig1 = px.histogram(df_cars, x=\"price\", \n",
    "                    template='none', nbins=20, text_auto=True,\n",
    "                    color_discrete_sequence=px.colors.qualitative.Antique)\n",
    "\n",
    "# Atualizando o layout, se necessário\n",
    "fig1.update_layout(title='Visualização da coluna - PRICE', \n",
    "                   autosize=False, width=500, height=500)\n",
    "\n",
    "fig1.update_traces(marker_line_width=1, marker_line_color=\"black\")\n",
    "\n",
    "fig1.show()"
   ]
  },
  {
   "cell_type": "code",
   "execution_count": null,
   "metadata": {},
   "outputs": [],
   "source": [
    "fig2 = px.histogram(df_cars, x=\"model_year\", \n",
    "                    nbins=20, template='none', text_auto=True,\n",
    "                    color_discrete_sequence=px.colors.qualitative.Antique)\n",
    "\n",
    "# Atualizando o layout, se necessário\n",
    "fig2.update_layout(title='Visualização da coluna - MODEL_YEAR', \n",
    "                   autosize=False, width=500, height=500)\n",
    "\n",
    "fig2.update_traces(marker_line_width=1, marker_line_color=\"black\")\n",
    "\n",
    "# Mostrando a figura\n",
    "fig2.show()"
   ]
  },
  {
   "cell_type": "code",
   "execution_count": null,
   "metadata": {},
   "outputs": [],
   "source": [
    "fig3 = px.histogram(df_cars, x=\"odometer\", \n",
    "                    template='none', nbins=20, text_auto=True,\n",
    "                    color_discrete_sequence=px.colors.qualitative.Antique)\n",
    "\n",
    "# Atualizando o layout, se necessário\n",
    "fig3.update_layout(title='Visualização da coluna - ODOMETER', \n",
    "                   autosize=False, width=500, height=500)\n",
    "\n",
    "fig3.update_traces(marker_line_width=1, marker_line_color=\"black\")\n",
    "\n",
    "# Mostrando a figura\n",
    "fig3.show()"
   ]
  },
  {
   "cell_type": "code",
   "execution_count": null,
   "metadata": {},
   "outputs": [],
   "source": [
    "fig4 = px.histogram(df_cars, x=\"cylinders\", \n",
    "                    template='none', nbins=20, text_auto=True,\n",
    "                    color_discrete_sequence=px.colors.qualitative.Antique)\n",
    "\n",
    "# Atualizando o layout, se necessário\n",
    "fig4.update_layout(title='Visualização da coluna - CYLINDERS', \n",
    "                   autosize=False, width=500, height=500)\n",
    "\n",
    "fig4.update_traces(marker_line_width=1, marker_line_color=\"black\")\n",
    "\n",
    "# Mostrando a figura\n",
    "fig4.show()"
   ]
  },
  {
   "cell_type": "code",
   "execution_count": null,
   "metadata": {},
   "outputs": [],
   "source": [
    "fig5 = px.histogram(df_cars, x=\"condition\", \n",
    "                    template='none', nbins=20, text_auto=True,\n",
    "                    color_discrete_sequence=px.colors.qualitative.Antique)\n",
    "\n",
    "# Atualizando o layout, se necessário\n",
    "fig5.update_layout(title='Visualização da coluna - CONDITION', \n",
    "                   autosize=False, width=500, height=500)\n",
    "\n",
    "fig5.update_traces(marker_line_width=1, marker_line_color=\"black\")\n",
    "\n",
    "# Mostrando a figura\n",
    "fig5.show()"
   ]
  },
  {
   "cell_type": "markdown",
   "metadata": {},
   "source": [
    "`Através da visualização dos histogramas acima, teremos que gerar boxplots das colunas para averiguar valores atípicos.`"
   ]
  },
  {
   "cell_type": "markdown",
   "metadata": {},
   "source": [
    "*Vamos fazer uma cópia do nosso df_cars.*"
   ]
  },
  {
   "cell_type": "code",
   "execution_count": null,
   "metadata": {},
   "outputs": [],
   "source": [
    "original_df_cars = df_cars.copy()"
   ]
  },
  {
   "cell_type": "markdown",
   "metadata": {},
   "source": [
    "*Gerando boxplot das colunas para verificação dos outliers e removendo-os quando necessário.*"
   ]
  },
  {
   "cell_type": "markdown",
   "metadata": {},
   "source": [
    "### *Coluna price.*"
   ]
  },
  {
   "cell_type": "code",
   "execution_count": null,
   "metadata": {},
   "outputs": [],
   "source": [
    "# informaçãoes\n",
    "df_cars.price.describe()"
   ]
  },
  {
   "cell_type": "code",
   "execution_count": null,
   "metadata": {},
   "outputs": [],
   "source": [
    "# histograma para verificar\n",
    "fig = px.histogram(original_df_cars, \n",
    "                   x='price', nbins=10, text_auto=True,\n",
    "                   color_discrete_sequence=px.colors.qualitative.Dark24_r)\n",
    "\n",
    "fig.update_layout(title='Distribuição de Preços', \n",
    "                  autosize=False, width=500, height=500)\n",
    "\n",
    "fig.update_traces(marker_line_width=1, marker_line_color=\"black\")\n",
    "\n",
    "fig.show()"
   ]
  },
  {
   "cell_type": "code",
   "execution_count": null,
   "metadata": {},
   "outputs": [],
   "source": [
    "# boxplot da coluna price\n",
    "fig = px.box(original_df_cars, x='price', \n",
    "             color_discrete_sequence=px.colors.qualitative.Dark24_r)\n",
    "\n",
    "fig.update_layout(title='Boxplot da Coluna \"price\"', \n",
    "                  autosize=False, width=500, height=500)\n",
    "\n",
    "fig.show()"
   ]
  },
  {
   "cell_type": "markdown",
   "metadata": {},
   "source": [
    "*Muitos outliers. Definindo limites superiores e inferiores*"
   ]
  },
  {
   "cell_type": "code",
   "execution_count": null,
   "metadata": {},
   "outputs": [],
   "source": [
    "# removendo carros com price menor do $5000\n",
    "df_cars_out_pr = df_cars[df_cars['price'] >= 5000]"
   ]
  },
  {
   "cell_type": "code",
   "execution_count": null,
   "metadata": {},
   "outputs": [],
   "source": [
    "# acima de $50000 também\n",
    "df_cars_out_pr = df_cars[df_cars['price'] <= 50000]"
   ]
  },
  {
   "cell_type": "code",
   "execution_count": null,
   "metadata": {},
   "outputs": [],
   "source": [
    "# histograma de verificação\n",
    "fig = px.histogram(df_cars_out_pr, \n",
    "                   x='price', nbins=10, text_auto=True,\n",
    "                   color_discrete_sequence=px.colors.qualitative.Dark24_r)\n",
    "\n",
    "fig.update_layout(title='Distribuição de Preços', \n",
    "                  autosize=False, width=500, height=500)\n",
    "\n",
    "fig.update_traces(marker_line_width=1, marker_line_color=\"black\")\n",
    "\n",
    "fig.show()"
   ]
  },
  {
   "cell_type": "code",
   "execution_count": null,
   "metadata": {},
   "outputs": [],
   "source": [
    "# boxplot da coluna price\n",
    "fig = px.box(df_cars_out_pr, x='price',\n",
    "             color_discrete_sequence=px.colors.qualitative.Dark24_r)\n",
    "\n",
    "fig.update_layout(title='Boxplot da Coluna \"price\"', \n",
    "                  autosize=False, width=500, height=500)\n",
    "\n",
    "fig.show()"
   ]
  },
  {
   "cell_type": "code",
   "execution_count": null,
   "metadata": {},
   "outputs": [],
   "source": [
    "df_cars.price.describe()"
   ]
  },
  {
   "cell_type": "markdown",
   "metadata": {},
   "source": [
    "`Removemos do df_cars outliers, com valores abaixo de $5000 para carros, melhorando assim tanto a visualização do histograma que apresentou uma distribuição mais uniforme. Também tínhamos outliers com valores muito altos e os removemos do df_cars.`"
   ]
  },
  {
   "cell_type": "markdown",
   "metadata": {},
   "source": [
    "### *Coluna model_year.*"
   ]
  },
  {
   "cell_type": "code",
   "execution_count": null,
   "metadata": {},
   "outputs": [],
   "source": [
    "# histograma de model_year\n",
    "fig = px.histogram(original_df_cars, \n",
    "                   x='model_year', nbins=10, text_auto=True,\n",
    "                   color_discrete_sequence=px.colors.qualitative.Dark24_r)\n",
    "\n",
    "fig.update_layout(title='Distribuição dos Anos dos Modelos', \n",
    "                  autosize=False, width=500, height=500)\n",
    "\n",
    "fig.update_traces(marker_line_width=1, marker_line_color=\"black\")\n",
    "\n",
    "fig.show()"
   ]
  },
  {
   "cell_type": "code",
   "execution_count": null,
   "metadata": {},
   "outputs": [],
   "source": [
    "# boxplot da coluna model_year\n",
    "fig = px.box(original_df_cars, x='model_year',\n",
    "             color_discrete_sequence=px.colors.qualitative.Dark24_r)\n",
    "\n",
    "fig.update_layout(title='Boxplot da Coluna \"model_year\"', \n",
    "                  autosize=False, width=500, height=500)\n",
    "\n",
    "fig.show()"
   ]
  },
  {
   "cell_type": "code",
   "execution_count": null,
   "metadata": {},
   "outputs": [],
   "source": [
    "# contanto carros com model_year abaixo de 2000\n",
    "(df_cars['model_year'] < 1980).sum()"
   ]
  },
  {
   "cell_type": "markdown",
   "metadata": {},
   "source": [
    "*Removendo outliers da coluna model_year.*"
   ]
  },
  {
   "cell_type": "code",
   "execution_count": null,
   "metadata": {},
   "outputs": [],
   "source": [
    "# removendo com base no histograma da distribuição\n",
    "df_cars_out_my = df_cars[df_cars['model_year'] > 1980]"
   ]
  },
  {
   "cell_type": "code",
   "execution_count": null,
   "metadata": {},
   "outputs": [],
   "source": [
    "# histograma de model_year para averiguação\n",
    "fig = px.histogram(df_cars_out_my, \n",
    "                   x='model_year', nbins=10, text_auto=True,\n",
    "                   color_discrete_sequence=px.colors.qualitative.Dark24_r)\n",
    "\n",
    "fig.update_layout(title='Distribuição dos Anos dos Modelos', \n",
    "                  autosize=False, width=500, height=500)\n",
    "\n",
    "fig.update_traces(marker_line_width=1, marker_line_color=\"black\")\n",
    "\n",
    "fig.show()"
   ]
  },
  {
   "cell_type": "code",
   "execution_count": null,
   "metadata": {},
   "outputs": [],
   "source": [
    "# boxplot da coluna para averiguação\n",
    "fig = px.box(df_cars_out_my, x='model_year',\n",
    "             color_discrete_sequence=px.colors.qualitative.Dark24_r)\n",
    "\n",
    "fig.update_layout(title='Boxplot da Coluna \"model_year\"', \n",
    "                  autosize=False, width=500, height=500)\n",
    "\n",
    "fig.show()"
   ]
  },
  {
   "cell_type": "code",
   "execution_count": null,
   "metadata": {},
   "outputs": [],
   "source": [
    "df_cars.model_year.describe()"
   ]
  },
  {
   "cell_type": "markdown",
   "metadata": {},
   "source": [
    "`Apresentação na coluna model_year está melhorada, conforme histograma e boxplot acima.`"
   ]
  },
  {
   "cell_type": "markdown",
   "metadata": {},
   "source": [
    "### *Coluna odometer.*"
   ]
  },
  {
   "cell_type": "code",
   "execution_count": null,
   "metadata": {},
   "outputs": [],
   "source": [
    "# histograma da coluna odometer\n",
    "fig = px.histogram(original_df_cars, \n",
    "                   x='odometer', nbins=20, text_auto=True,\n",
    "                   color_discrete_sequence=px.colors.qualitative.Dark24_r)\n",
    "\n",
    "fig.update_layout(title='Distribuição do Odômetro', \n",
    "                  autosize=False, width=500, height=500)\n",
    "\n",
    "fig.update_traces(marker_line_width=1, marker_line_color=\"black\")\n",
    "\n",
    "fig.show()"
   ]
  },
  {
   "cell_type": "code",
   "execution_count": null,
   "metadata": {},
   "outputs": [],
   "source": [
    "# boxplot da coluna odometer\n",
    "fig = px.box(original_df_cars, x='odometer',\n",
    "             color_discrete_sequence=px.colors.qualitative.Dark24_r)\n",
    "\n",
    "fig.update_layout(title='Boxplot da Coluna \"odometer\"', \n",
    "                  autosize=False, width=500, height=500)\n",
    "\n",
    "fig.show()"
   ]
  },
  {
   "cell_type": "code",
   "execution_count": null,
   "metadata": {},
   "outputs": [],
   "source": [
    "# informações\n",
    "df_cars.odometer.describe()"
   ]
  },
  {
   "cell_type": "code",
   "execution_count": null,
   "metadata": {},
   "outputs": [],
   "source": [
    "# calculando o quartis e definindo IQR\n",
    "Q1 = df_cars['odometer'].quantile(0.25)\n",
    "Q3 = df_cars['odometer'].quantile(0.75)\n",
    "IQR = Q3 - Q1"
   ]
  },
  {
   "cell_type": "code",
   "execution_count": null,
   "metadata": {},
   "outputs": [],
   "source": [
    "# vamos definir os limites superiores apenas, pois sabendo que podemos ter carro em estado de novo...\n",
    "upper_limit = Q3 + 1.5 * IQR\n",
    "upper_limit"
   ]
  },
  {
   "cell_type": "code",
   "execution_count": null,
   "metadata": {},
   "outputs": [],
   "source": [
    "# outliers sendo removidos\n",
    "df_cars_out_od = df_cars[(df_cars['odometer'] <= upper_limit)]"
   ]
  },
  {
   "cell_type": "code",
   "execution_count": null,
   "metadata": {},
   "outputs": [],
   "source": [
    "# histograma novamente\n",
    "fig = px.histogram(df_cars_out_od, \n",
    "                   x='odometer', nbins=20, text_auto=True,\n",
    "                   color_discrete_sequence=px.colors.qualitative.Dark24_r)\n",
    "\n",
    "fig.update_layout(title='Distribuição do Odômetro', \n",
    "                  autosize=False, width=500, height=500)\n",
    "\n",
    "fig.update_traces(marker_line_width=1, marker_line_color=\"black\")\n",
    "\n",
    "fig.show()"
   ]
  },
  {
   "cell_type": "code",
   "execution_count": null,
   "metadata": {},
   "outputs": [],
   "source": [
    "# aquele boxplot para conferência\n",
    "fig = px.box(df_cars_out_od, x='odometer',\n",
    "             color_discrete_sequence=px.colors.qualitative.Dark24_r)\n",
    "\n",
    "fig.update_layout(title='Boxplot da Coluna \"odometer\"', \n",
    "                  autosize=False, width=500, height=500)\n",
    "\n",
    "fig.show()"
   ]
  },
  {
   "cell_type": "code",
   "execution_count": null,
   "metadata": {},
   "outputs": [],
   "source": [
    "# verificando\n",
    "df_cars.odometer.describe()"
   ]
  },
  {
   "cell_type": "markdown",
   "metadata": {},
   "source": [
    "`Processo de remoção dos outliers em odometer concluído com sucesso.`"
   ]
  },
  {
   "cell_type": "markdown",
   "metadata": {},
   "source": [
    "### *Coluna cylinders.*"
   ]
  },
  {
   "cell_type": "code",
   "execution_count": null,
   "metadata": {},
   "outputs": [],
   "source": [
    "# boxplot da coluna cylinders\n",
    "fig = px.box(df_cars, x='cylinders',\n",
    "             color_discrete_sequence=px.colors.qualitative.Dark24_r)\n",
    "\n",
    "fig.update_layout(title='Boxplot da Coluna \"cylinders\"', \n",
    "                  autosize=False, width=500, height=500)\n",
    "\n",
    "fig.show()"
   ]
  },
  {
   "cell_type": "markdown",
   "metadata": {},
   "source": [
    "`Sem outliers, prosseguimos.`"
   ]
  },
  {
   "cell_type": "markdown",
   "metadata": {},
   "source": [
    "### *Coluna condition.*"
   ]
  },
  {
   "cell_type": "code",
   "execution_count": null,
   "metadata": {},
   "outputs": [],
   "source": [
    "# boxplot da coluna condition\n",
    "fig = px.box(df_cars, x='condition', \n",
    "             color_discrete_sequence=px.colors.qualitative.Dark24_r)\n",
    "\n",
    "fig.update_layout(title='Boxplot da Coluna \"condition\"', \n",
    "                  autosize=False, width=500, height=500)\n",
    "\n",
    "fig.show()"
   ]
  },
  {
   "cell_type": "markdown",
   "metadata": {},
   "source": [
    "`Coluna condition é praticamente uma coluna categórica. O que o boxplot mostrou são dados padrões desta coluna. Seguiremos adiante.`"
   ]
  },
  {
   "cell_type": "code",
   "execution_count": null,
   "metadata": {},
   "outputs": [],
   "source": [
    "# verificando as informação do df_cars com outliers removidos\n",
    "df_cars.info()"
   ]
  },
  {
   "cell_type": "markdown",
   "metadata": {},
   "source": [
    "## Estudo dos parâmetros fundamentais sem valores atípicos"
   ]
  },
  {
   "cell_type": "code",
   "execution_count": null,
   "metadata": {},
   "outputs": [],
   "source": [
    "# nosso df_cars original\n",
    "original_df_cars.info()"
   ]
  },
  {
   "cell_type": "code",
   "execution_count": null,
   "metadata": {},
   "outputs": [],
   "source": [
    "# diferença de linhas após a \"limpeza\"\n",
    "len(original_df_cars) - len(df_cars)"
   ]
  },
  {
   "cell_type": "code",
   "execution_count": null,
   "metadata": {},
   "outputs": [],
   "source": [
    "# em porcentagem\n",
    "len(df_cars) / len(original_df_cars)"
   ]
  },
  {
   "cell_type": "markdown",
   "metadata": {},
   "source": [
    "*Realizando algumas comparações com histogramas.*"
   ]
  },
  {
   "cell_type": "code",
   "execution_count": null,
   "metadata": {},
   "outputs": [],
   "source": [
    "fig1 = px.histogram(original_df_cars, x=\"price\", \n",
    "                    color_discrete_sequence=px.colors.qualitative.Vivid, \n",
    "                    template='none', nbins=20, text_auto=True)\n",
    "\n",
    "# Atualizando o layout, se necessário\n",
    "fig1.update_layout(title=\"Comparação de preço: Histograma de Preço - Original\", \n",
    "                   autosize=False, width=500, height=500)\n",
    "\n",
    "fig1.update_traces(marker_line_width=1, marker_line_color=\"black\")\n",
    "\n",
    "# Mostrando a figura\n",
    "fig1.show()"
   ]
  },
  {
   "cell_type": "code",
   "execution_count": null,
   "metadata": {},
   "outputs": [],
   "source": [
    "fig2 = px.histogram(df_cars_out_pr, x=\"price\", \n",
    "                    color_discrete_sequence=px.colors.qualitative.Prism, \n",
    "                    template='none', nbins=24, text_auto=True)\n",
    "\n",
    "# Atualizando o layout, se necessário\n",
    "fig2.update_layout(title=\"Comparação de preço: Histograma de Preço - Sem Outliers\", \n",
    "                   autosize=False, width=500, height=500)\n",
    "\n",
    "fig2.update_traces(marker_line_width=1, marker_line_color=\"black\")\n",
    "\n",
    "# Mostrando a figura\n",
    "fig2.show()"
   ]
  },
  {
   "cell_type": "code",
   "execution_count": null,
   "metadata": {},
   "outputs": [],
   "source": [
    "fig1 = px.histogram(original_df_cars, x=\"odometer\", \n",
    "                    color_discrete_sequence=px.colors.qualitative.Vivid, \n",
    "                    template='none', nbins=20, text_auto=True)\n",
    "\n",
    "# Atualizando o layout, se necessário\n",
    "fig1.update_layout(title=\"Comparação de odômetro: Histograma de Odômetro - Original\", \n",
    "                   autosize=False, width=500, height=500)\n",
    "\n",
    "fig1.update_traces(marker_line_width=1, marker_line_color=\"black\")\n",
    "\n",
    "# Mostrando a figura\n",
    "fig1.show()"
   ]
  },
  {
   "cell_type": "code",
   "execution_count": null,
   "metadata": {},
   "outputs": [],
   "source": [
    "fig2 = px.histogram(df_cars_out_od, x=\"odometer\", \n",
    "                    color_discrete_sequence=px.colors.qualitative.Prism, \n",
    "                    template='none', nbins=20, text_auto=True)\n",
    "\n",
    "# Atualizando o layout, se necessário\n",
    "fig2.update_layout(title=\"Comparação de odômetro: Histograma de Odômetro - Sem Outliers\", \n",
    "                   autosize=False, width=500, height=500)\n",
    "\n",
    "fig2.update_traces(marker_line_width=1, marker_line_color=\"black\")\n",
    "\n",
    "# Mostrando a figura\n",
    "fig2.show()"
   ]
  },
  {
   "cell_type": "code",
   "execution_count": null,
   "metadata": {},
   "outputs": [],
   "source": [
    "# verificando coluna\n",
    "df_cars.days_listed.describe()"
   ]
  },
  {
   "cell_type": "code",
   "execution_count": null,
   "metadata": {},
   "outputs": [],
   "source": [
    "# mais informações\n",
    "df_cars.head()"
   ]
  },
  {
   "cell_type": "code",
   "execution_count": null,
   "metadata": {},
   "outputs": [],
   "source": [
    "# cálculos rápidos para extrair o número em dias para float\n",
    "df_cars['days_listed_number'] = (df_cars['date_listed'] - df_cars['date_posted']).dt.days\n",
    "df_cars['days_listed_number'].describe()"
   ]
  },
  {
   "cell_type": "code",
   "execution_count": null,
   "metadata": {},
   "outputs": [],
   "source": [
    "# Histograma para visualizar melhor\n",
    "fig = px.histogram(df_cars, x='days_listed_number', \n",
    "                   color_discrete_sequence=px.colors.qualitative.Set2, \n",
    "                   text_auto=True, nbins=20)\n",
    "\n",
    "fig.update_layout(title='Número de Dias Listados', \n",
    "                  autosize=False, width=500, height=500)\n",
    "\n",
    "fig.update_traces(marker_line_width=1, marker_line_color=\"black\")\n",
    "\n",
    "fig.show()"
   ]
  },
  {
   "cell_type": "code",
   "execution_count": null,
   "metadata": {},
   "outputs": [],
   "source": [
    "# mediana\n",
    "median = df_cars['days_listed_number'].median()\n",
    "median"
   ]
  },
  {
   "cell_type": "code",
   "execution_count": null,
   "metadata": {},
   "outputs": [],
   "source": [
    "# média\n",
    "mean = df_cars['days_listed_number'].mean()\n",
    "mean"
   ]
  },
  {
   "cell_type": "markdown",
   "metadata": {},
   "source": [
    "`As propagandas ficaram em média por mais de 39 dias. Já a mediana informa que são 33 dias. Vamos verificar os tempos mais longos e os mais curtos.`"
   ]
  },
  {
   "cell_type": "code",
   "execution_count": null,
   "metadata": {},
   "outputs": [],
   "source": [
    "# vamos ver o valor máximo\n",
    "max_time = df_cars['days_listed_number'].max()\n",
    "max_time"
   ]
  },
  {
   "cell_type": "code",
   "execution_count": null,
   "metadata": {},
   "outputs": [],
   "source": [
    "# Encontrar o tempo mais curto\n",
    "shortest_time = df_cars['days_listed_number'].min()\n",
    "shortest_time"
   ]
  },
  {
   "cell_type": "code",
   "execution_count": null,
   "metadata": {},
   "outputs": [],
   "source": [
    "# usando len\n",
    "short_time_occurrence_count = (df_cars['days_listed_number'] == 0).sum()\n",
    "short_time_occurrence_count"
   ]
  },
  {
   "cell_type": "code",
   "execution_count": null,
   "metadata": {},
   "outputs": [],
   "source": [
    "# Contando os valores maiores que a média\n",
    "avg_days_listed = df_cars['days_listed_number'].mean()\n",
    "above_avg_occurrence = (df_cars['days_listed_number'] > avg_days_listed).sum()\n",
    "above_avg_occurrence"
   ]
  },
  {
   "cell_type": "code",
   "execution_count": null,
   "metadata": {},
   "outputs": [],
   "source": [
    "# Contando os valores maiores que a mediana...\n",
    "median_days_listed = df_cars['days_listed_number'].median()\n",
    "above_median_occurrence = (df_cars['days_listed_number'] > median_days_listed).sum()\n",
    "above_median_occurrence"
   ]
  },
  {
   "cell_type": "markdown",
   "metadata": {},
   "source": [
    "- `Temos alguns fatos interessantes após olhar esses valores.`\n",
    "- `Existem 38 ocorrencias com menos de 1 dia. Ou venderam o veículo no mesmo dia ou existe algum erro de informação ali.`\n",
    "- `Outro fato, é de que temos mais de 15 mil ocorrencias, onde as propagandas excederam o tempo médio e mais de 18 mil que excederam o tempo mediano. Se as propagandas tiverem algum custo para a empresa, melhor repensar a estratégia!`"
   ]
  },
  {
   "cell_type": "markdown",
   "metadata": {},
   "source": [
    "## Média de preços por cada tipo de veículo"
   ]
  },
  {
   "cell_type": "code",
   "execution_count": null,
   "metadata": {},
   "outputs": [],
   "source": [
    "pivot_per_type = pd.pivot_table(df_cars, index='type', values=['days_listed_number', 'price'], aggfunc='mean')\n",
    "pivot_per_type = pivot_per_type.sort_values(by='days_listed_number', ascending=False)\n",
    "pivot_per_type"
   ]
  },
  {
   "cell_type": "code",
   "execution_count": null,
   "metadata": {},
   "outputs": [],
   "source": [
    "fig = px.bar(x=pivot_per_type.index, y=pivot_per_type['days_listed_number'], \n",
    "             color_discrete_sequence=px.colors.qualitative.Light24_r, \n",
    "             template='none', barmode='group', text_auto=True)\n",
    "\n",
    "fig.update_layout(title='Média dos Dias de Anúncio por Tipo de Veículo', \n",
    "                  autosize=False, width=500, height=500)\n",
    "\n",
    "fig.show()"
   ]
  },
  {
   "cell_type": "markdown",
   "metadata": {},
   "source": [
    "`Os tipos com maiores tempos de propaganda são veículos grandes, como ônibus e van. Ônibus chega a ter 10 dias a mais em média do que os outros tipos de veículos.`"
   ]
  },
  {
   "cell_type": "markdown",
   "metadata": {},
   "source": [
    "## Fatores de preço"
   ]
  },
  {
   "cell_type": "code",
   "execution_count": null,
   "metadata": {},
   "outputs": [],
   "source": [
    "# matriz de correlação\n",
    "correlation_matrix = df_cars[['price', 'odometer', 'vehicle_age']].corr()\n",
    "correlation_matrix"
   ]
  },
  {
   "cell_type": "code",
   "execution_count": null,
   "metadata": {},
   "outputs": [],
   "source": [
    "# Criando um gráfico da matriz\n",
    "fig = px.imshow(correlation_matrix, text_auto=True, \n",
    "                color_continuous_scale=[(0, \"pink\"), (0.5, \"blue\"), (1, \"purple\")], aspect=\"auto\")\n",
    "\n",
    "fig.update_layout(title='Matriz de Correlação - PRICE, ODOMETER, VEHICLE_AGE', \n",
    "                  autosize=False, width=500, height=500)\n",
    "\n",
    "fig.show()"
   ]
  },
  {
   "cell_type": "code",
   "execution_count": null,
   "metadata": {},
   "outputs": [],
   "source": [
    "# gráfico de dispersão para visualizar as relações entre as variáveis\n",
    "fig = px.scatter(df_cars, x='vehicle_age', y='price', \n",
    "                 color_discrete_sequence=px.colors.qualitative.G10) \n",
    "\n",
    "fig.update_traces(marker=dict(size=10, line=dict(width=2, color='black')), \n",
    "                  selector=dict(mode='markers'))\n",
    "\n",
    "fig.update_layout(scattermode=\"group\", title='Dispersão entre Idade do Veículo e Preço', \n",
    "                  autosize=False, width=500, height=500)\n",
    "\n",
    "fig.show() "
   ]
  },
  {
   "cell_type": "code",
   "execution_count": null,
   "metadata": {},
   "outputs": [],
   "source": [
    "# gráfico de dispersão para odometer e price\n",
    "fig = px.scatter(df_cars, x='odometer', y='price', \n",
    "                 color_discrete_sequence=px.colors.qualitative.Pastel) \n",
    "\n",
    "fig.update_traces(marker=dict(size=8, line=dict(width=2, color='black')), \n",
    "                  selector=dict(mode='markers'))\n",
    "\n",
    "fig.update_layout(scattermode=\"group\", title='Dispersão entre Quilometragem e Preço',\n",
    "                  autosize=False, width=500, height=500)\n",
    "fig.show() "
   ]
  },
  {
   "cell_type": "code",
   "execution_count": null,
   "metadata": {},
   "outputs": [],
   "source": [
    "# Boxplot de transmission\n",
    "fig = px.box(df_cars, x='transmission', y='price', color='transmission')\n",
    "\n",
    "fig.update_layout(title='Boxplot de Preço por Tipo de Transmissão', \n",
    "                  autosize=False, width=500, height=500)\n",
    "\n",
    "fig.show()"
   ]
  },
  {
   "cell_type": "code",
   "execution_count": null,
   "metadata": {},
   "outputs": [],
   "source": [
    "# verificando a preferência por tipo de transmissão\n",
    "fig = px.bar(df_cars, x=\"transmission\", template='none', color='transmission')\n",
    "\n",
    "fig.update_layout(title='Contagem de Veículos por Tipo de Transmissão', \n",
    "                  autosize=False, width=500, height=500)\n",
    "\n",
    "fig.show()"
   ]
  },
  {
   "cell_type": "code",
   "execution_count": null,
   "metadata": {},
   "outputs": [],
   "source": [
    "# contagem por paint_color\n",
    "fig = px.bar(df_cars, x=\"paint_color\", template='none', color='paint_color')\n",
    "\n",
    "fig.update_layout(title='Contagem de Veículos por Cor', \n",
    "                  autosize=False, width=500, height=500)\n",
    "\n",
    "fig.show()"
   ]
  },
  {
   "cell_type": "markdown",
   "metadata": {},
   "source": [
    "# Conclusão Geral\n",
    "\n",
    "*Novamente foi um imenso prazer de realizar essa tarefa e também um desafio, pois este dataset estava bem \"machucado\", sem dados duplicados, mas com muitos valores ausentes e os dados em formatos diferentes do ideal. A parte de tratamento de dados e análise exploratória levaram um tempo relativamente grande do trabalho e foi preciso em alguns casos gerar correlações e gráficos entre as variáveis para melhor entendimento do dataset. Muitos outliers e com a remoção deles, perdemos uma parcela generosa dos nossos dados. Ossos do ofício.*\n",
    "\n",
    "*O fator preço é fortemente influenciado por odometer e idade do veículo, mas de maneira inversa e faz muito sentido. Quanto mais velho e mais \"rodado\" o veículo, mais o preço decai. O tipo de transmissão que vai dominar o mundo é a transmissão automática, conforme esse dataset nos mostra. Conveniência, conforto e segurança. Uma olhada nas cores dos veículos nos mostrou que a ocorrência das cores clássicas permanecem em alta e com maior frequência. Branco, preto, prata, cinza, além de vermelho e azul. Cores mais \"vibrantes\" aparecem com menos frequência nos veículos deste dataset.*\n",
    "\n",
    "*Enfim, um dataset interessante de se trabalhar onde conseguimos descobrir:*\n",
    "*   os fatores que mais influenciam nos preços dos veículos;\n",
    "*   o tempo médio de dias das propagandas para cada tipo;\n",
    "*   a preferência por transmissão automática;\n",
    "*   que os carros conversíveis tem o menor tempo médio de propaganda ou a venda seja mais rápida;\n",
    "*   que existem pouquíssimos veículos na cor roxa;\n",
    "*   e que mesmo o dataset contendo carros com data de fabricação entre 1908 e 2019, a média e mediana de idade dos veículos ficou entre 2009 e 2011."
   ]
  }
 ],
 "metadata": {
  "kernelspec": {
   "display_name": "tts4",
   "language": "python",
   "name": "tts4"
  },
  "language_info": {
   "codemirror_mode": {
    "name": "ipython",
    "version": 3
   },
   "file_extension": ".py",
   "mimetype": "text/x-python",
   "name": "python",
   "nbconvert_exporter": "python",
   "pygments_lexer": "ipython3",
   "version": "3.11.5"
  }
 },
 "nbformat": 4,
 "nbformat_minor": 2
}
